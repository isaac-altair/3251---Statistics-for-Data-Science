{
  "nbformat": 4,
  "nbformat_minor": 0,
  "metadata": {
    "colab": {
      "provenance": [],
      "authorship_tag": "ABX9TyP0isuxymXlIC49emEF+eXe",
      "include_colab_link": true
    },
    "kernelspec": {
      "name": "python3",
      "display_name": "Python 3"
    },
    "language_info": {
      "name": "python"
    }
  },
  "cells": [
    {
      "cell_type": "markdown",
      "metadata": {
        "id": "view-in-github",
        "colab_type": "text"
      },
      "source": [
        "<a href=\"https://colab.research.google.com/github/isaac-altair/3251---Statistics-for-Data-Science/blob/master/Logistic_Regression_From_Scratch.ipynb\" target=\"_parent\"><img src=\"https://colab.research.google.com/assets/colab-badge.svg\" alt=\"Open In Colab\"/></a>"
      ]
    },
    {
      "cell_type": "markdown",
      "source": [
        "The idea behind this notebook is to create a simple logistic regression."
      ],
      "metadata": {
        "id": "PoIZqtZ1KxMq"
      }
    },
    {
      "cell_type": "code",
      "execution_count": 33,
      "metadata": {
        "id": "k5iNC8kUJ9bX"
      },
      "outputs": [],
      "source": [
        "import numpy as np"
      ]
    },
    {
      "cell_type": "code",
      "source": [
        "# X is of shape (m examples, n features)\n",
        "# Y is of shape (m examples, 1)\n",
        "# w is of shape (n features, 1)\n",
        "# A is of shape (m examples, 1)\n",
        "\n",
        "class LogisticRegressionManual:\n",
        "  \"\"\"\n",
        "  A manual implementation of Logistic Regression using only NumPy.\n",
        "\n",
        "  This class performs binary classification by learning parameters (weights and\n",
        "  bias) through gradient descent. It demonstrates how logistic regression works\n",
        "  internally, without relying on libraries like scikit-learn or TensorFlow.\n",
        "  \"\"\"\n",
        "  def __init__(self, learning_rate = 0.01, number_of_iterations = 1000,\n",
        "               print_cost = False):\n",
        "\n",
        "    \"\"\"\n",
        "    Initialize model hyperparamters and placeholders for weights and bias.\n",
        "\n",
        "    Parameters\n",
        "    ----------\n",
        "    learning_rate : float, optional\n",
        "      The learning rate is used in gradient descent updates.\n",
        "    Number of iterations : int, optional\n",
        "      The number of iterations to run gradient descent.\n",
        "    print_cost : bool, optional\n",
        "      Whether to print the cost every 100 iterations.\n",
        "    \"\"\"\n",
        "\n",
        "    self.learning_rate = learning_rate\n",
        "    self.number_of_iterations = number_of_iterations\n",
        "    self.print_cost = print_cost\n",
        "    self.w = None\n",
        "    self.b = None\n",
        "    self.costs = []\n",
        "\n",
        "  def sigmoid(self, z):\n",
        "\n",
        "    \"\"\"\n",
        "    Compute the sigmod of z.\n",
        "\n",
        "    Parameters\n",
        "    ----------\n",
        "    z : np.ndarray\n",
        "        Linear combination of inputs and weights (can be scalar or vector).\n",
        "\n",
        "    Returns\n",
        "    -------\n",
        "    np.ndarray\n",
        "        Sigmod-activated output (values between 0 and 1)\n",
        "    \"\"\"\n",
        "\n",
        "    return 1 / (1 + np.exp(-z))\n",
        "\n",
        "  def initialize_with_zeros(self, dim):\n",
        "\n",
        "    \"\"\"\n",
        "    Initialize weights and bias with zeros.\n",
        "\n",
        "    Parameters\n",
        "    ----------\n",
        "\n",
        "    dim : int\n",
        "        Number of features (columns in X).\n",
        "\n",
        "    Returns\n",
        "    -------\n",
        "    w : np.ndarray\n",
        "        Initialized weight vector of shape (dim, 1)\n",
        "    b : float\n",
        "        Initialized bias term (0.0)\n",
        "    \"\"\"\n",
        "\n",
        "    w = np.zeros([dim,1])\n",
        "    b = 0.0\n",
        "\n",
        "    return w, b\n",
        "\n",
        "  def propagate(self, w, b, X, Y):\n",
        "\n",
        "    \"\"\"\n",
        "    Perform forward and backward propagation.\n",
        "\n",
        "    Parameters\n",
        "    ----------\n",
        "    w : np.ndarray\n",
        "        Current weight vector of shape (n_features, 1)\n",
        "    b : float\n",
        "        Current bias term\n",
        "    X : np.ndarray\n",
        "        Feature matrix of shape (m_examples, n_features)\n",
        "    Y : np.ndarray\n",
        "        True labels vector of shape (m_examples, 1)\n",
        "\n",
        "    Returns\n",
        "    -------\n",
        "    grads : dict\n",
        "        Gradients with respect to weights and bias:\n",
        "        {'dw' : dw, 'db' : db}\n",
        "    cost : float\n",
        "        The logistic regression cost (log loss)\n",
        "    \"\"\"\n",
        "\n",
        "    m = X.shape[0]\n",
        "\n",
        "    # FORWARD PROPAGATION (FROM X TO COST)\n",
        "    A = self.sigmoid(np.dot(X, w) + b) # compute activation; same as tf.matmul\n",
        "    cost = -1/m * (np.sum(Y * np.log(A + 1e-8) + (1 - Y) * np.log(1 - A + 1e-8)))   # compute cost. Add 1e-8 to avoid log(0) errors\n",
        "\n",
        "    # BACKWARD PROPAGATION (TO FIND GRAD)\n",
        "    dw = 1 / m * (np.dot(X.T,(A - Y)))\n",
        "    db = 1 / m * (np.sum(A - Y))\n",
        "\n",
        "    cost = np.squeeze(cost)\n",
        "\n",
        "    grads = {\"dw\": dw,\n",
        "            \"db\": db}\n",
        "\n",
        "    return grads, cost\n",
        "\n",
        "  def optimize(self, w, b, X, Y, num_iterations, learning_rate, print_cost = False):\n",
        "\n",
        "    \"\"\"\n",
        "    Optimize weights and bias using gradient descent.\n",
        "\n",
        "    Parameters\n",
        "    ----------\n",
        "    w : np.ndarray\n",
        "        Initial weight vector.\n",
        "    b : float\n",
        "        Initial bias term.\n",
        "    X : np.ndarray\n",
        "        Feature matrix of shape (m_examples, n_features).\n",
        "    Y : np.ndarray\n",
        "        True labels vector of shape (m_examples, 1).\n",
        "    num_iterations : int\n",
        "        Number of iterations for gradient descent.\n",
        "    learning_rate : float\n",
        "        Learning rate for gradient descent updates.\n",
        "    print_cost : bool, optional\n",
        "        Whether to print cost every 100 iterations.\n",
        "\n",
        "    Returns\n",
        "    -------\n",
        "    params : dict\n",
        "        Learned parameters {'w': w, 'b': b}.\n",
        "    grads : dict\n",
        "        Gradients {'dw': dw, 'db': db}.\n",
        "    costs : list\n",
        "        List of costs computed during optimization.\n",
        "    \"\"\"\n",
        "\n",
        "    costs = []\n",
        "\n",
        "    for i in range(num_iterations):\n",
        "\n",
        "        # Cost and gradient calculation\n",
        "        grads, cost = self.propagate(w,b,X,Y)\n",
        "\n",
        "        # Retrieve derivatives from grads\n",
        "        dw = grads[\"dw\"]\n",
        "        db = grads[\"db\"]\n",
        "\n",
        "        # update rule (≈ 2 lines of code)\n",
        "        w = w - learning_rate*dw\n",
        "        b = b - learning_rate*db\n",
        "\n",
        "        # Record the costs\n",
        "        if i % 100 == 0:\n",
        "            costs.append(cost)\n",
        "\n",
        "        # Print the cost every 100 training examples\n",
        "        if print_cost and i % 100 == 0:\n",
        "            print (\"Cost after iteration %i: %f\" %(i, cost))\n",
        "\n",
        "    params = {\"w\": w,\n",
        "              \"b\": b}\n",
        "\n",
        "    grads = {\"dw\": dw,\n",
        "            \"db\": db}\n",
        "\n",
        "    return params, grads, costs\n",
        "\n",
        "  def fit(self, X, Y):\n",
        "\n",
        "    \"\"\"\n",
        "    Train the logistic regression model.\n",
        "\n",
        "    Parameters\n",
        "    ----------\n",
        "    X : np.ndarray\n",
        "        Training features matrix of shape (m_examples, n_features).\n",
        "    Y : np.ndaray\n",
        "        True labels vector of shape (m_examples, 1)\n",
        "    \"\"\"\n",
        "\n",
        "    dim = X.shape[1] # Want to get the number of features which is the number\n",
        "                     # of columns in X\n",
        "    self.w, self.b = self.initialize_with_zeros(dim)\n",
        "    params, grads, costs = self.optimize(self.w, self.b, X, Y,\n",
        "                                         self.number_of_iterations,\n",
        "                                         self.learning_rate,\n",
        "                                         self.print_cost)\n",
        "\n",
        "    self.w, self.b = params[\"w\"], params[\"b\"] # w and b are saved as\n",
        "                                              # instance attributes so that\n",
        "                                              # they can be further used\n",
        "                                              # in predict function\n",
        "    self.costs = costs\n",
        "\n",
        "  def predict(self, X):\n",
        "\n",
        "    \"\"\"\n",
        "    Predict class labels (0 or 1) for given input data.\n",
        "\n",
        "    Parameters\n",
        "    ----------\n",
        "    X : np.ndarray\n",
        "        Input feature matrix of shape (m_examples, n_features)\n",
        "\n",
        "    Returns\n",
        "    -------\n",
        "    Y_prediction : nd.array\n",
        "        Predicted class labels of shape (m_examples, 1)\n",
        "    \"\"\"\n",
        "\n",
        "    A = self.sigmoid(np.dot(X, self.w) + self.b) # (m, 1)\n",
        "\n",
        "    Y_prediction = (A > 0.5).astype(int)\n",
        "\n",
        "    return Y_prediction"
      ],
      "metadata": {
        "id": "NuuzH-uKZIPw"
      },
      "execution_count": 34,
      "outputs": []
    },
    {
      "cell_type": "code",
      "source": [
        "logreg = LogisticRegressionManual()"
      ],
      "metadata": {
        "id": "unagJrdp-Bj8"
      },
      "execution_count": 35,
      "outputs": []
    },
    {
      "cell_type": "code",
      "source": [
        "logreg.sigmoid(np.array([1, 12, 13]))"
      ],
      "metadata": {
        "colab": {
          "base_uri": "https://localhost:8080/"
        },
        "id": "W1gfV-nAxsQ2",
        "outputId": "2dec4763-ec4e-4b6d-d5f4-9a67fccff2eb"
      },
      "execution_count": 36,
      "outputs": [
        {
          "output_type": "execute_result",
          "data": {
            "text/plain": [
              "array([0.73105858, 0.99999386, 0.99999774])"
            ]
          },
          "metadata": {},
          "execution_count": 36
        }
      ]
    },
    {
      "cell_type": "markdown",
      "source": [
        "Create dummy data"
      ],
      "metadata": {
        "id": "pQoV4HSsF_nc"
      }
    },
    {
      "cell_type": "code",
      "source": [
        "# Set random seed for reproducibility\n",
        "np.random.seed(0)\n",
        "\n",
        "# Number of samples and features\n",
        "m = 200   # samples\n",
        "n = 5     # features\n",
        "\n",
        "# Generate random features\n",
        "X = np.random.randn(m, n)\n",
        "\n",
        "# True (hidden) weights and bias\n",
        "true_w = np.array([[2], [-3], [4], [-1], [9]])\n",
        "true_b = 0.5\n",
        "\n",
        "# Generate probabilities and binary labels\n",
        "Y_prob = 1 / (1 + np.exp(-(X @ true_w + true_b)))  # sigmoid\n",
        "Y = (Y_prob > 0.5).astype(int)"
      ],
      "metadata": {
        "id": "Lp_lW6XIIqF0"
      },
      "execution_count": 42,
      "outputs": []
    },
    {
      "cell_type": "markdown",
      "source": [
        "Split the data"
      ],
      "metadata": {
        "id": "bTDdsMhDXckY"
      }
    },
    {
      "cell_type": "code",
      "source": [
        "from sklearn.model_selection import train_test_split\n",
        "\n",
        "X_train, X_test, Y_train, Y_test = train_test_split(X, Y, test_size=0.2, random_state=42)"
      ],
      "metadata": {
        "id": "xnuOmiUeP-pe"
      },
      "execution_count": 43,
      "outputs": []
    },
    {
      "cell_type": "markdown",
      "source": [
        "Train the model"
      ],
      "metadata": {
        "id": "oXSL3OY-YCID"
      }
    },
    {
      "cell_type": "code",
      "source": [
        "model = LogisticRegressionManual(\n",
        "    learning_rate=0.01,\n",
        "    number_of_iterations=10000,\n",
        "    print_cost=True\n",
        ")\n",
        "\n",
        "model.fit(X_train, Y_train)"
      ],
      "metadata": {
        "colab": {
          "base_uri": "https://localhost:8080/"
        },
        "id": "AMTSRHorXcIp",
        "outputId": "7048d43b-73e8-4bb7-9bd3-24e66ce0e29b"
      },
      "execution_count": 63,
      "outputs": [
        {
          "output_type": "stream",
          "name": "stdout",
          "text": [
            "Cost after iteration 0: 0.693147\n",
            "Cost after iteration 100: 0.567301\n",
            "Cost after iteration 200: 0.485684\n",
            "Cost after iteration 300: 0.429782\n",
            "Cost after iteration 400: 0.389366\n",
            "Cost after iteration 500: 0.358794\n",
            "Cost after iteration 600: 0.334815\n",
            "Cost after iteration 700: 0.315453\n",
            "Cost after iteration 800: 0.299449\n",
            "Cost after iteration 900: 0.285962\n",
            "Cost after iteration 1000: 0.274413\n",
            "Cost after iteration 1100: 0.264390\n",
            "Cost after iteration 1200: 0.255590\n",
            "Cost after iteration 1300: 0.247788\n",
            "Cost after iteration 1400: 0.240810\n",
            "Cost after iteration 1500: 0.234522\n",
            "Cost after iteration 1600: 0.228818\n",
            "Cost after iteration 1700: 0.223613\n",
            "Cost after iteration 1800: 0.218839\n",
            "Cost after iteration 1900: 0.214439\n",
            "Cost after iteration 2000: 0.210366\n",
            "Cost after iteration 2100: 0.206582\n",
            "Cost after iteration 2200: 0.203054\n",
            "Cost after iteration 2300: 0.199753\n",
            "Cost after iteration 2400: 0.196656\n",
            "Cost after iteration 2500: 0.193742\n",
            "Cost after iteration 2600: 0.190994\n",
            "Cost after iteration 2700: 0.188396\n",
            "Cost after iteration 2800: 0.185935\n",
            "Cost after iteration 2900: 0.183598\n",
            "Cost after iteration 3000: 0.181376\n",
            "Cost after iteration 3100: 0.179259\n",
            "Cost after iteration 3200: 0.177239\n",
            "Cost after iteration 3300: 0.175309\n",
            "Cost after iteration 3400: 0.173461\n",
            "Cost after iteration 3500: 0.171690\n",
            "Cost after iteration 3600: 0.169991\n",
            "Cost after iteration 3700: 0.168358\n",
            "Cost after iteration 3800: 0.166787\n",
            "Cost after iteration 3900: 0.165275\n",
            "Cost after iteration 4000: 0.163818\n",
            "Cost after iteration 4100: 0.162411\n",
            "Cost after iteration 4200: 0.161053\n",
            "Cost after iteration 4300: 0.159740\n",
            "Cost after iteration 4400: 0.158471\n",
            "Cost after iteration 4500: 0.157241\n",
            "Cost after iteration 4600: 0.156050\n",
            "Cost after iteration 4700: 0.154895\n",
            "Cost after iteration 4800: 0.153775\n",
            "Cost after iteration 4900: 0.152687\n",
            "Cost after iteration 5000: 0.151630\n",
            "Cost after iteration 5100: 0.150602\n",
            "Cost after iteration 5200: 0.149603\n",
            "Cost after iteration 5300: 0.148630\n",
            "Cost after iteration 5400: 0.147683\n",
            "Cost after iteration 5500: 0.146760\n",
            "Cost after iteration 5600: 0.145861\n",
            "Cost after iteration 5700: 0.144984\n",
            "Cost after iteration 5800: 0.144128\n",
            "Cost after iteration 5900: 0.143292\n",
            "Cost after iteration 6000: 0.142476\n",
            "Cost after iteration 6100: 0.141679\n",
            "Cost after iteration 6200: 0.140900\n",
            "Cost after iteration 6300: 0.140138\n",
            "Cost after iteration 6400: 0.139393\n",
            "Cost after iteration 6500: 0.138664\n",
            "Cost after iteration 6600: 0.137951\n",
            "Cost after iteration 6700: 0.137252\n",
            "Cost after iteration 6800: 0.136567\n",
            "Cost after iteration 6900: 0.135897\n",
            "Cost after iteration 7000: 0.135240\n",
            "Cost after iteration 7100: 0.134595\n",
            "Cost after iteration 7200: 0.133963\n",
            "Cost after iteration 7300: 0.133343\n",
            "Cost after iteration 7400: 0.132735\n",
            "Cost after iteration 7500: 0.132138\n",
            "Cost after iteration 7600: 0.131552\n",
            "Cost after iteration 7700: 0.130976\n",
            "Cost after iteration 7800: 0.130410\n",
            "Cost after iteration 7900: 0.129855\n",
            "Cost after iteration 8000: 0.129309\n",
            "Cost after iteration 8100: 0.128772\n",
            "Cost after iteration 8200: 0.128244\n",
            "Cost after iteration 8300: 0.127725\n",
            "Cost after iteration 8400: 0.127215\n",
            "Cost after iteration 8500: 0.126712\n",
            "Cost after iteration 8600: 0.126218\n",
            "Cost after iteration 8700: 0.125732\n",
            "Cost after iteration 8800: 0.125253\n",
            "Cost after iteration 8900: 0.124781\n",
            "Cost after iteration 9000: 0.124317\n",
            "Cost after iteration 9100: 0.123859\n",
            "Cost after iteration 9200: 0.123409\n",
            "Cost after iteration 9300: 0.122965\n",
            "Cost after iteration 9400: 0.122527\n",
            "Cost after iteration 9500: 0.122096\n",
            "Cost after iteration 9600: 0.121671\n",
            "Cost after iteration 9700: 0.121252\n",
            "Cost after iteration 9800: 0.120838\n",
            "Cost after iteration 9900: 0.120430\n"
          ]
        }
      ]
    },
    {
      "cell_type": "markdown",
      "source": [
        "Make predictions on the X_test"
      ],
      "metadata": {
        "id": "D95IozupZKZu"
      }
    },
    {
      "cell_type": "code",
      "source": [
        "Y_pred = model.predict(X_test)\n",
        "\n",
        "from sklearn.metrics import accuracy_score\n",
        "acc = accuracy_score(Y_test, Y_pred)\n",
        "print(f\"Accuracy: {acc:.2f}\")"
      ],
      "metadata": {
        "colab": {
          "base_uri": "https://localhost:8080/"
        },
        "id": "xGRYz_R_ZHZZ",
        "outputId": "05f7b15c-b82e-42ff-adab-8c4939081388"
      },
      "execution_count": 64,
      "outputs": [
        {
          "output_type": "stream",
          "name": "stdout",
          "text": [
            "Accuracy: 0.90\n"
          ]
        }
      ]
    },
    {
      "cell_type": "markdown",
      "source": [
        "Plot the data"
      ],
      "metadata": {
        "id": "SsP1Jun-ZVla"
      }
    },
    {
      "cell_type": "code",
      "source": [
        "import matplotlib.pyplot as plt\n",
        "\n",
        "plt.plot(model.costs)\n",
        "plt.xlabel(\"Iterations (x100)\")\n",
        "plt.ylabel(\"Cost\")\n",
        "plt.title(\"Learning curve\")\n",
        "plt.show()"
      ],
      "metadata": {
        "colab": {
          "base_uri": "https://localhost:8080/",
          "height": 472
        },
        "id": "lWULQt-iYEfE",
        "outputId": "7eab158d-2125-4a62-d05e-c8ed1379cb5b"
      },
      "execution_count": 65,
      "outputs": [
        {
          "output_type": "display_data",
          "data": {
            "text/plain": [
              "<Figure size 640x480 with 1 Axes>"
            ],
            "image/png": "[encoded data removed]"
          },
          "metadata": {}
        }
      ]
    },
    {
      "cell_type": "code",
      "source": [],
      "metadata": {
        "id": "VQJXthQfZWuV"
      },
      "execution_count": null,
      "outputs": []
    }
  ]
}