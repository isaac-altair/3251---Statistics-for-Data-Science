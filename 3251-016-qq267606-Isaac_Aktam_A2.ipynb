{
 "cells": [
  {
   "cell_type": "markdown",
   "metadata": {
    "collapsed": true
   },
   "source": [
    "# Question 2.28"
   ]
  },
  {
   "cell_type": "markdown",
   "metadata": {},
   "source": [
    "In your sock drawer you have 4 blue, 5 gray, and 3 black socks. Half\n",
    "asleep one morning you grab 2 socks at random and put them on. Find the probability you end\n",
    "up wearing:\n",
    "\n",
    "    (a) 2 blue socks\n",
    "\n",
    "    (b) no gray socks\n",
    "\n",
    "    (c) at least 1 black sock\n",
    "\n",
    "    (d) a green sock\n",
    "\n",
    "    (e) matching socks"
   ]
  },
  {
   "cell_type": "markdown",
   "metadata": {},
   "source": [
    "(a) \n",
    "\\begin{equation*}\n",
    "P(2\\,blue\\,socks) = P(1^{st}\\,sock\\,is\\,blue \\cap 2^{nd}\\,sock\\,is\\,blue) \\overset{\\perp}{=}  P(1^{st}\\,sock\\,is\\,blue) * P(2^{nd}\\,sock\\,is\\,blue) = \\frac{4}{12} * \\frac{3}{11} = \\frac{1}{11} = 0.\\overline{09}\n",
    "\\end{equation*}"
   ]
  },
  {
   "cell_type": "markdown",
   "metadata": {},
   "source": [
    "b)\n",
    "\\begin{equation*}\n",
    "By \\perp \\, P(No\\,gray\\,socks) = P(1^{st}\\,sock\\,is\\,not\\,gray \\cap 2^{nd}\\,sock\\,is\\,not\\,gray) \\overset{\\perp}{=}  P(1^{st}\\,sock\\,is\\,not\\,gray) * P(2^{nd}\\,sock\\,is\\,not\\,gray) = \\frac{7}{12} * \\frac{6}{11} = 0.3\\overline{18}\n",
    "\\end{equation*}"
   ]
  },
  {
   "cell_type": "markdown",
   "metadata": {},
   "source": [
    "c)\n",
    "\\begin{equation*}\n",
    "By \\perp \\, P(At\\,least\\,1\\,black\\,sock) = 1\\,-\\,P(No\\,black\\,socks) = 1\\,-\\,P(1^{st}\\,sock\\,is\\,not\\,black\\, \\cap \\,2^{nd}\\,sock\\,is\\,not\\,black) \\overset{\\perp}{=}  1 - P(1^{st}\\,sock\\,is\\,not\\,black) * P(2^{nd}\\,sock\\,is\\,not\\,black) = 1 - \\frac{9}{12} * \\frac{8}{11} = 0.\\overline{45}\n",
    "\\end{equation*}"
   ]
  },
  {
   "cell_type": "markdown",
   "metadata": {},
   "source": [
    "d)\n",
    "\\begin{equation*}\n",
    "P(1^{st}\\,sock\\,is\\,green) = 0\\,because\\,there\\,are\\,not\\,green\\,socks\\,in\\,the\\,set\n",
    "\\end{equation*}"
   ]
  },
  {
   "cell_type": "markdown",
   "metadata": {},
   "source": [
    "e)\n",
    "\\begin{equation*}\n",
    "P(Matching\\,socks) = P(Blue,Blue) + P(Gray,Gray) + P(Black,Black) \\overset{\\perp}{=} P(Blue) * P(Blue) + P(Black) * P(Black) + P(Gray) * P(Gray) = \\frac{4}{12} * \\frac{3}{11} + \\frac{5}{12} * \\frac{4}{11} + \\frac{9}{12} * \\frac{8}{11} = 0.2\\overline{87}\n",
    "\\end{equation*}"
   ]
  },
  {
   "cell_type": "markdown",
   "metadata": {},
   "source": [
    "# Question 2.34"
   ]
  },
  {
   "cell_type": "markdown",
   "metadata": {},
   "source": [
    "Ace of clubs wins. Consider the following card game with a well-shuffeled deck of cards.\n",
    "If you draw a red card, you win nothing. If you get a spade, you win $5. For\\,any\\,club, you win\n",
    "$10 plus an extra $20 for the ace of clubs:\n",
    "\n",
    "    (a) Create a probability model for the amount you win at this game. Also, find the expected\n",
    "winnings for a single game and the standard deviation of the winnings.\n",
    "\n",
    "    (b) What is the maximum amount you would be willing to pay to play this game? Explain your\n",
    "reasoning."
   ]
  },
  {
   "cell_type": "markdown",
   "metadata": {},
   "source": [
    "a) \n",
    "- Our possible winnings, x = [\\$0, \\$5, \\$10, \\$20]\n",
    "- X = amount we can win at this game\n",
    "\n",
    "\\begin{equation*}\n",
    "P(X = \\$0) = P(Red\\,card) = \\frac{26}{52} = 0.5\n",
    "\\end{equation*}\n",
    "\\begin{equation*}\n",
    "P(X = \\$5) = P(Spade) = \\frac{13}{52} = 0.25\n",
    "\\end{equation*}\n",
    "\\begin{equation*}\n",
    "P(X = \\$10) = P(Club\\,,\\,but\\,not\\,an\\,ace) = \\frac{13}{52} = 0.231\n",
    "\\end{equation*}\n",
    "\\begin{equation*}\n",
    "P(X = \\$30) = P(Ace\\,of\\,clubs) = \\frac{1}{52} = 0.01923\n",
    "\\end{equation*}\n",
    "\n",
    "\n",
    "| x              | P(X=x)                                                         |\n",
    "| :------------- |---------------------------------------------------------------:|\n",
    "| \\$0            | \\begin{equation*} \\frac{26}{52} \\, = \\, 0.5     \\end{equation*}|\n",
    "| \\$5            | \\begin{equation*} \\frac{13}{52} \\, = \\, 0.25    \\end{equation*}|\n",
    "| \\$10           | \\begin{equation*} \\frac{12}{52} \\, = \\,0.231    \\end{equation*}|\n",
    "| \\$30           | \\begin{equation*} \\frac{1}{52} \\, = \\, 0.01923  \\end{equation*}|\n",
    "| Total =  \\$45  | \\begin{equation*} \\frac{52}{52} \\, = \\, 1       \\end{equation*}|\n",
    "\n",
    "\\begin{equation*}\n",
    "E[X] = \\$0 * 0.5 + $5 * 0.25 + $10 * 0.231 + 30 * 0.1923 = \\$4.1346\n",
    "\\end{equation*}\n",
    "\n",
    "\\begin{equation*}\n",
    "V[X] = (0 - 4.1346)^{2} * \\frac{1}{2} + (5 - 4.1346)^{2} * \\frac{13}{52} + (10 - 4.1346)^{2} * \\frac{12}{52} + \n",
    "(30 - 4.1346)^{2} * \\frac{1}{52} = 29.5395 \\Rightarrow \\sigma = 5.435\n",
    "\\end{equation*}"
   ]
  },
  {
   "cell_type": "markdown",
   "metadata": {},
   "source": [
    "b) Time to calculate expectation\n",
    "\n",
    "\\begin{equation*}\n",
    "E[X] = \\$0 * 0.5 + $5 * 0.25 + $10 * 0.231 + 30 * 0.1923 = \\$4.1346\n",
    "\\end{equation*}\n",
    "\n",
    "Therefore, willing to bet at max \\$4.1346"
   ]
  },
  {
   "cell_type": "markdown",
   "metadata": {},
   "source": [
    "The game of European roulette involves spinning a wheel with 37\n",
    "slots: 18 red, 18 black, and 1 green. A ball is spun onto the wheel and will eventually land in a\n",
    "slot, where each slot has an equal chance of capturing the ball. Gamblers can place bets on red or\n",
    "black. If the ball lands on their color, they double their money. If it lands on another color, they\n",
    "lose their money:\n",
    "\n",
    "    (a) Suppose you play roulette and bet $3 on a single round. What is the expected value and\n",
    "standard deviation of your total winnings?\n",
    "\n",
    "    (b) Suppose you bet $1 in three different rounds. What is the expected value and standard\n",
    "deviation of your total winnings?\n",
    "\n",
    "    (c) How do your answers to parts (a) and (b) compare? What does this say about the riskiness\n",
    "of the two games?"
   ]
  },
  {
   "cell_type": "markdown",
   "metadata": {},
   "source": [
    "a) \n",
    "\n",
    "\\begin{equation*}\n",
    "P(Win) =  \\frac{18}{37}\n",
    "\\end{equation*}\n",
    "\n",
    "\\begin{equation*}\n",
    "P(Lose) =  \\frac{19}{37}\n",
    "\\end{equation*}\n",
    "\n",
    "\\begin{equation*}\n",
    "Expected\\,winnings\\,on\\,either\\,Red\\,or\\,Black = 3 * \\frac{18}{37} - 3 * \\frac{19}{37} = -0.0\\overline{81}\n",
    "\\end{equation*}\n",
    "\n",
    "\\begin{equation*}\n",
    "\\sigma^2 = (3+0.081)^2 * \\frac{18}{37} + (-3+0.081)^2 * \\frac{19}{37} = 8.99 \\Rightarrow \\sigma \\approxeq  3\n",
    "\\end{equation*}"
   ]
  },
  {
   "cell_type": "markdown",
   "metadata": {},
   "source": [
    "b) \n",
    "\n",
    "\\begin{equation*}\n",
    "E[X] = \\$1 * \\frac{18}{37} - \\$1 * \\frac{19}{37} = -\\$0.027 \\Rightarrow 3 * E[X] = -\\$0.081\n",
    "\\end{equation*}\n",
    "\n",
    "\\begin{equation*}\n",
    "V[X] = (1+0.027)^{2} * \\frac{18}{37} + (-1 + 0.027)^{2} * \\frac{19}{37} = 0.946728\n",
    "\\end{equation*}\n",
    "\n",
    "\\begin{equation*}\n",
    "\\sigma^2 \\,for\\,3\\,rounds = 3 * 0.946728 = 2.840184\n",
    "\\end{equation*}\n",
    "\n",
    "\\begin{equation*}\n",
    "\\sigma\\,for\\,3\\,rounds = \\sqrt{2.840184} = 1.6852845457073413\n",
    "\\end{equation*}"
   ]
  },
  {
   "cell_type": "markdown",
   "metadata": {},
   "source": [
    "c)\n",
    "\n",
    "- Expected value when betting \\$3 in one round is the same as betting \\$1 in three rounds\n",
    "\n",
    "- The standard deviation is lower when betting \\$1 over three rounds, meaning that this option is less risky because you are unlikely to lose as much as if betting \\$3 in one round; however this also means you are unlikely to win as much when betting $1 in 3 rounds."
   ]
  },
  {
   "cell_type": "markdown",
   "metadata": {},
   "source": [
    "# Monty Hall Problem"
   ]
  },
  {
   "cell_type": "code",
   "execution_count": null,
   "metadata": {
    "collapsed": true
   },
   "outputs": [],
   "source": [
    "from random import randint\n",
    "import numpy as np\n",
    "import random"
   ]
  },
  {
   "cell_type": "code",
   "execution_count": 17,
   "metadata": {},
   "outputs": [
    {
     "name": "stdout",
     "output_type": "stream",
     "text": [
      "0.66725\n"
     ]
    }
   ],
   "source": [
    "n_iterations = 100000\n",
    "win_counts = 0\n",
    "\n",
    "for i in range(n_iterations):\n",
    "    # Predermine randomly behind which door car is located    \n",
    "    door_car = randint(1, 3)\n",
    "    \n",
    "    # Player picks a door\n",
    "    player_door = randint(1, 3)\n",
    "    \n",
    "    # Host opens the door that is not a car_door and that is not a player_door\n",
    "    \n",
    "    list_of_doors = [1, 2, 3]\n",
    "    \n",
    "    # Remove both door_car and player_door\n",
    "    \n",
    "    list_of_doors.remove(door_car)\n",
    "    \n",
    "    if player_door != door_car:\n",
    "        list_of_doors.remove(player_door)\n",
    "    \n",
    "    host_door = list_of_doors[0]\n",
    "    \n",
    "    # Time to change my mind\n",
    "    \n",
    "    new_doors = [1, 2, 3]\n",
    "    \n",
    "    new_doors.remove(player_door)\n",
    "    new_doors.remove(host_door)\n",
    "    \n",
    "    player_door_new = new_doors[0]\n",
    "    \n",
    "    if player_door_new == door_car:\n",
    "        win_counts = win_counts + 1\n",
    "        \n",
    "print(win_counts / n_iterations)"
   ]
  },
  {
   "cell_type": "code",
   "execution_count": 18,
   "metadata": {},
   "outputs": [
    {
     "name": "stdout",
     "output_type": "stream",
     "text": [
      "0.3342\n"
     ]
    }
   ],
   "source": [
    "n_iterations = 100000\n",
    "win_counts = 0\n",
    "\n",
    "for i in range(n_iterations):\n",
    "    # Predermine randomly behind which door car is located    \n",
    "    door_car = randint(1, 3)\n",
    "    \n",
    "    # Player picks a door\n",
    "    player_door = randint(1, 3)\n",
    "    \n",
    "    # Host opens the door that is not a car_door and that is not a player_door\n",
    "    \n",
    "    list_of_doors = [1, 2, 3]\n",
    "    \n",
    "    # Remove both door_car and player_door\n",
    "    \n",
    "    list_of_doors.remove(door_car)\n",
    "    \n",
    "    if player_door != door_car:\n",
    "        list_of_doors.remove(player_door)\n",
    "    \n",
    "    host_door = list_of_doors[0]\n",
    "    \n",
    "    # I do not change my mind\n",
    "    \n",
    "    if player_door_new == door_car:\n",
    "        win_counts = win_counts + 1\n",
    "        \n",
    "print(win_counts / n_iterations)"
   ]
  }
 ],
 "metadata": {
  "kernelspec": {
   "display_name": "Python 3",
   "language": "python",
   "name": "python3"
  },
  "language_info": {
   "codemirror_mode": {
    "name": "ipython",
    "version": 3
   },
   "file_extension": ".py",
   "mimetype": "text/x-python",
   "name": "python",
   "nbconvert_exporter": "python",
   "pygments_lexer": "ipython3",
   "version": "3.6.3"
  }
 },
 "nbformat": 4,
 "nbformat_minor": 2
}
