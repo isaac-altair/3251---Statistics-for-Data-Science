{
 "cells": [
  {
   "cell_type": "code",
   "execution_count": 59,
   "metadata": {
    "collapsed": true
   },
   "outputs": [],
   "source": [
    "import numpy as np\n",
    "import scipy.stats as st\n",
    "from IPython.display import Image"
   ]
  },
  {
   "cell_type": "markdown",
   "metadata": {},
   "source": [
    "4.10 Twitter users and news, Part II. A poll conducted in 2013 found that 52% of U.S.\n",
    "adult Twitter users get at least some news on Twitter, and the standard error for this estimate\n",
    "was 2.4%. Identify each of the following statements as true or false. Provide an explanation to\n",
    "justify each of your answers.\n",
    "\n",
    "(a) The data provide statistically significant evidence that more than half of U.S. adult Twitter\n",
    "users get some news through Twitter. Use a significance level of $\\alpha$ = 0.01.\n",
    "\n",
    "(b) Since the standard error is 2.4%, we can conclude that 97.6% of all U.S. adult Twitter users\n",
    "were included in the study.\n",
    "\n",
    "(c) If we want to reduce the standard error of the estimate, we should collect less data.\n",
    "\n",
    "(d) If we construct a 90% confidence interval for the percentage of U.S. adults Twitter users who\n",
    "get some news through Twitter, this confidence interval will be wider than a corresponding\n",
    "99% confidence interval."
   ]
  },
  {
   "cell_type": "code",
   "execution_count": 100,
   "metadata": {
    "collapsed": true
   },
   "outputs": [],
   "source": [
    "mean = 0.52\n",
    "s_e = 0.024"
   ]
  },
  {
   "cell_type": "code",
   "execution_count": 101,
   "metadata": {},
   "outputs": [
    {
     "name": "stdout",
     "output_type": "stream",
     "text": [
      "Our value with confidence 99 percent interval is 0.5200 +/- 0.0618\n"
     ]
    },
    {
     "data": {
      "text/plain": [
       "[0.4581800967148264, 0.5818199032851736]"
      ]
     },
     "execution_count": 101,
     "metadata": {},
     "output_type": "execute_result"
    }
   ],
   "source": [
    "# a.\n",
    "\n",
    "# H_0 : mean <= 0.5\n",
    "# H_a : mean > 0.5\n",
    "\n",
    "# We have an upper tail test\n",
    "\n",
    "alpha = 0.01\n",
    "\n",
    "z_critical = st.norm.ppf(q = (1 - alpha / 2)) \n",
    "\n",
    "ci_99 = s_e * z_critical\n",
    "\n",
    "print(\"Our value with confidence 99 percent interval is %.4f +/- %.4f\" % (mean, ci_99))\n",
    "\n",
    "[mean - ci_99, mean + ci_99]"
   ]
  },
  {
   "cell_type": "code",
   "execution_count": 102,
   "metadata": {},
   "outputs": [
    {
     "data": {
      "text/plain": [
       "0.7976716190363572"
      ]
     },
     "execution_count": 102,
     "metadata": {},
     "output_type": "execute_result"
    }
   ],
   "source": [
    "1 - st.norm.cdf(0.5, loc=mean, scale=s_e)"
   ]
  },
  {
   "cell_type": "markdown",
   "metadata": {},
   "source": [
    "The answer to question a. is that does not provide statistically significant evidence that more than half of U.S. adult Twitter users get some news through Twitter as the 50% falls within the C.I. and P(X > 0.5) = 1 - P(X <= 0.5) =  0.7976 > 0.01"
   ]
  },
  {
   "cell_type": "markdown",
   "metadata": {},
   "source": [
    "b.\n",
    "\n",
    "False. This is not an interpretation of standard error, we don't know how many people were included in the study. Therefore, we cannot make any solid conclusion."
   ]
  },
  {
   "cell_type": "code",
   "execution_count": 104,
   "metadata": {},
   "outputs": [
    {
     "name": "stdout",
     "output_type": "stream",
     "text": [
      "Our value with confidence 97.5 percent interval is 0.5200 +/- 0.0538\n"
     ]
    },
    {
     "data": {
      "text/plain": [
       "[0.4662063345374813, 0.5737936654625188]"
      ]
     },
     "execution_count": 104,
     "metadata": {},
     "output_type": "execute_result"
    }
   ],
   "source": [
    "alpha_975 = 1 - 0.975\n",
    "\n",
    "z_critical_975 = st.norm.ppf(q = (1 - alpha_975 / 2)) \n",
    "\n",
    "\n",
    "ci_975 = s_e * z_critical_975\n",
    "\n",
    "print(\"Our value with confidence 97.5 percent interval is %.4f +/- %.4f\" % (mean, ci_975))\n",
    "[mean - ci_975, mean + ci_975]"
   ]
  },
  {
   "cell_type": "code",
   "execution_count": 105,
   "metadata": {},
   "outputs": [
    {
     "name": "stdout",
     "output_type": "stream",
     "text": [
      "424.5737759333435\n",
      "432.04511835869334\n"
     ]
    }
   ],
   "source": [
    "n_up = 0.5737936654625188 * (1 - 0.5737936654625188) / 0.024**2\n",
    "print(n_up)\n",
    "\n",
    "n_down = 0.4662063345374813 * (1 - 0.4662063345374813) / 0.024**2\n",
    "print(n_down)"
   ]
  },
  {
   "cell_type": "markdown",
   "metadata": {},
   "source": [
    "So, yeah, this does not display 97.5% of adult population at all."
   ]
  },
  {
   "cell_type": "markdown",
   "metadata": {},
   "source": [
    "c.\n",
    "\n",
    "False. If we want to reduce the standard error of the estimate, we should increase the amound of data. Let's take a look at the example below."
   ]
  },
  {
   "cell_type": "markdown",
   "metadata": {},
   "source": [
    "We know that the \\begin{equation*} s.e. =  \\sqrt{ \\frac{\\widehat{p} \\times (1 - \\widehat{p})}{n} } \\end{equation*}\n",
    "\n",
    "From the above, we can derive the sample size n"
   ]
  },
  {
   "cell_type": "code",
   "execution_count": 106,
   "metadata": {},
   "outputs": [
    {
     "data": {
      "text/plain": [
       "433.3333333333333"
      ]
     },
     "execution_count": 106,
     "metadata": {},
     "output_type": "execute_result"
    }
   ],
   "source": [
    "n = 0.52 * (1 - 0.52) / 0.024**2\n",
    "n"
   ]
  },
  {
   "cell_type": "code",
   "execution_count": 107,
   "metadata": {},
   "outputs": [
    {
     "name": "stdout",
     "output_type": "stream",
     "text": [
      "0.022342784070030305\n",
      "0.0157987341265052\n",
      "0.004995998398718718\n"
     ]
    }
   ],
   "source": [
    "# Then\n",
    "\n",
    "s_e_500 = np.sqrt(0.52 * (1 - 0.52) / 500)\n",
    "\n",
    "print(s_e_500)\n",
    "\n",
    "s_e_1000 = np.sqrt(0.52 * (1 - 0.52) / 1000)\n",
    "\n",
    "print(s_e_1000)\n",
    "\n",
    "s_e_10000 = np.sqrt(0.52 * (1 - 0.52) / 10000)\n",
    "\n",
    "print(s_e_10000)"
   ]
  },
  {
   "cell_type": "code",
   "execution_count": 108,
   "metadata": {},
   "outputs": [
    {
     "name": "stdout",
     "output_type": "stream",
     "text": [
      "Our value with confidence 90 percent interval is 0.5200 +/- 0.0395\n",
      "Our value with confidence 99 percent interval is 0.5200 +/- 0.0618\n"
     ]
    }
   ],
   "source": [
    "# d.\n",
    "\n",
    "alpha_90 = 1- 0.9\n",
    "alpha_99 = 1- 0.99\n",
    "\n",
    "z_critical_90 = st.norm.ppf(q = (1 - alpha_90 / 2)) \n",
    "z_critical_99 = st.norm.ppf(q = (1 - alpha_99 / 2)) \n",
    "\n",
    "\n",
    "ci_90 = s_e * z_critical_90\n",
    "ci_99 = s_e * z_critical_99\n",
    "\n",
    "print(\"Our value with confidence 90 percent interval is %.4f +/- %.4f\" % (mean, ci_90))\n",
    "print(\"Our value with confidence 99 percent interval is %.4f +/- %.4f\" % (mean, ci_99))"
   ]
  },
  {
   "cell_type": "markdown",
   "metadata": {},
   "source": [
    "The answer to part d. is False."
   ]
  },
  {
   "cell_type": "markdown",
   "metadata": {},
   "source": [
    "4.20 \n",
    "\n",
    "Age at first marriage, Part II. Exercise 4.16 presents the results of a 2006 - 2010 survey\n",
    "showing that the average age of women at first marriage is 23.44. Suppose a social scientist believes\n",
    "that this value has increased in 2012, but she would also be interested if she found a decrease.\n",
    "Below is how she set up her hypotheses. Indicate any errors you see.\n",
    "\n",
    "$H_0$ : $\\tilde{x}$ = 23.44 years old\n",
    "\n",
    "$H_A$: $\\tilde{x}$  > 23.44 years old"
   ]
  },
  {
   "cell_type": "markdown",
   "metadata": {},
   "source": [
    "The value of the mean should be μ and alternate should be a ≠"
   ]
  },
  {
   "cell_type": "markdown",
   "metadata": {},
   "source": [
    "4.30\n",
    "\n",
    "Testing for food safety. A food safety inspector is called upon to investigate a restaurant with a few customer reports of poor sanitation practices. The food safety inspector uses a hypothesis testing framework to evaluate whether regulations are not being met. If he decides the restaurant is in gross violation, its license to serve food will be revoked.\n",
    "\n",
    "(a) Write the hypotheses in words.\n",
    "\n",
    "(b) What is a Type 1 Error in this context?\n",
    "\n",
    "(c) What is a Type 2 Error in this context?\n",
    "\n",
    "(d) Which error is more problematic for the restaurant owner? Why?\n",
    "\n",
    "(e) Which error is more problematic for the diners? Why?\n",
    "\n",
    "(f) As a diner, would you prefer that the food safety inspector requires strong evidence or very\n",
    "strong evidence of health concerns before revoking a restaurant’s license? Explain your reasoning."
   ]
  },
  {
   "cell_type": "markdown",
   "metadata": {},
   "source": [
    "a. \n",
    "\n",
    "$H_0$ : Food sanitation is in good condition.\n",
    "\n",
    "$H_a$ : Food sanitation is not in good condition."
   ]
  },
  {
   "cell_type": "markdown",
   "metadata": {},
   "source": [
    "b. \n",
    "\n",
    "Type 1 Error (False Positive) is rejecting the null hypothesis when it is actualy True. This means that we reject the null hypothesis in favour of restaurant not meeting food sanitation requirements when it is actually meeting them."
   ]
  },
  {
   "cell_type": "markdown",
   "metadata": {},
   "source": [
    "c.\n",
    "\n",
    "Type 2 Error (False Negative) is failing to reject null hypothesis when it is actually False. This means that we don't reject null hypothesis in favour of restaurant meeting food sanitation requirements when it actually does not meet the food sanitation requirements."
   ]
  },
  {
   "cell_type": "markdown",
   "metadata": {},
   "source": [
    "d.\n",
    "\n",
    "Type 1 Error would be more problematic to the restaurant owner as his/her restaurant would be shut down by inspection as the inspection would conclude that the restaurant does not meet sanitation requirements when it actually does. Therefore, restaurant would be erroneously closed down for violating sanitation regulations."
   ]
  },
  {
   "cell_type": "markdown",
   "metadata": {},
   "source": [
    "e.\n",
    "\n",
    "Type 2 Error would be more problematic to the customers as sanitation inspection should have closed down restaurant when it did not due to the restaurant violating the sanitation requirements. Therefore, customers would be eating unsafe food."
   ]
  },
  {
   "cell_type": "markdown",
   "metadata": {},
   "source": [
    "f.\n",
    "\n",
    "As a diner, I would prefer food inspector have strong evidence ($\\alpha$ not too big and not too small, around 0.05). If $\\alpha$ is too small (0.01), meaning there is very strong evidence, there is a higher chance of Type 2 error and as a diner we would not want that. If $\\alpha$ is larger but not too big (0.10), meaning there is some evidence, there is a lower chance of Type 2 error and as a diner I would be more content with that; here we want to be cautious about failing to reject $H_0$ when the null is actually false.."
   ]
  },
  {
   "cell_type": "markdown",
   "metadata": {},
   "source": [
    "5.4\n",
    "\n",
    "An independent random sample is selected from an approximately normal population with an unknown standard deviation. Find the p-value for the given\n",
    "\n",
    "set of hypotheses and T test statistic. Also determine if the null hypothesis would be rejected at\n",
    "$\\alpha$ = 0.01.\n",
    "\n",
    "(a) $H_a$ : μ > 0.5, n = 26, T = 2.485; upper tail \n",
    "\n",
    "(b) $H_a$ : μ < 3, n = 18, T = 0.5; lower tail"
   ]
  },
  {
   "cell_type": "code",
   "execution_count": null,
   "metadata": {
    "collapsed": true
   },
   "outputs": [],
   "source": []
  },
  {
   "cell_type": "code",
   "execution_count": 109,
   "metadata": {},
   "outputs": [
    {
     "data": {
      "text/plain": [
       "2.4851071754106413"
      ]
     },
     "execution_count": 109,
     "metadata": {},
     "output_type": "execute_result"
    }
   ],
   "source": [
    "st.t.ppf(0.99, 25)"
   ]
  },
  {
   "cell_type": "code",
   "execution_count": 110,
   "metadata": {},
   "outputs": [
    {
     "name": "stdout",
     "output_type": "stream",
     "text": [
      "2.4851071754106413\n",
      "0.010002400548908885\n"
     ]
    }
   ],
   "source": [
    "# a\n",
    "\n",
    "print(st.t.ppf(0.99, 25))\n",
    "\n",
    "print(1 - st.t.cdf(2.485, 25))"
   ]
  },
  {
   "cell_type": "markdown",
   "metadata": {},
   "source": [
    "Do not reject the null hypothesis since p-value = 0.010002400548908885 > $\\alpha$ = 0.01"
   ]
  },
  {
   "cell_type": "code",
   "execution_count": 111,
   "metadata": {},
   "outputs": [
    {
     "name": "stdout",
     "output_type": "stream",
     "text": [
      "-2.4851071754106417\n",
      "0.6882573967171443\n"
     ]
    }
   ],
   "source": [
    "print(st.t.ppf(0.01, 25))\n",
    "\n",
    "print(st.t.cdf(0.5, 17))"
   ]
  },
  {
   "cell_type": "markdown",
   "metadata": {},
   "source": [
    "Do not reject the null hypothesis since p-value = 0.6882573967171443 >  α  = 0.01"
   ]
  },
  {
   "cell_type": "markdown",
   "metadata": {},
   "source": [
    "5.8\n",
    "\n",
    "Fuel efficiency of Prius. Fueleconomy.gov, the offcial US government source for fuel economy information, allows users to share gas mileage information on their vehicles. The histogram below shows the distribution of gas mileage in miles per gallon (MPG) from 14 users who drive a 2012 Toyota Prius. The sample mean is 53.3 MPG and the standard deviation is 5.2 MPG. Note that these data are user estimates and since the source data cannot be verified, the accuracy of these estimates are not guaranteed."
   ]
  },
  {
   "cell_type": "markdown",
   "metadata": {},
   "source": [
    "<img src=\"homework58.png\">"
   ]
  },
  {
   "cell_type": "markdown",
   "metadata": {},
   "source": [
    "(a) We would like to use these data to evaluate the average gas mileage of all 2012 Prius drivers.\n",
    "Do you think this is reasonable? Why or why not?\n",
    "\n",
    "(b) The EPA claims that a 2012 Prius gets 50 MPG (city and highway mileage combined). Do these data provide strong evidence against this estimate for drivers who participate on fueleconomy.gov? Note any assumptions you must make as you proceed with the test.\n",
    "\n",
    "(c) Calculate a 95% confidence interval for the average gas mileage of a 2012 Prius by drivers who\n",
    "participate on fueleconomy.gov."
   ]
  },
  {
   "cell_type": "markdown",
   "metadata": {},
   "source": [
    "a. \n",
    "\n",
    "In order to evaluate the average gas mileage of all 2012 Prius drivers we need to ensure that our sample data is independently and identically distributed Random Normal. From the graph we can see that the sample data is approximately Normally distributed with little to no skew. We know that the sample is less that 10% of the population. What we do not know whether our sample is randomly chosen or not since users volunteerily submitted their estimates which can lead to biased results. Additionally, to ensure that our data is normally distributed, we need at least 30 data entries. Therefore, we need to be extremely sceptical when trying to deal with this data."
   ]
  },
  {
   "cell_type": "markdown",
   "metadata": {},
   "source": [
    "b.\n",
    "\n",
    "Let $\\mu$ be the average MPG a 2012 Prius gets both (city and highway combined).\n",
    "\n",
    "$ H_0: \\mu = 50 MPG $\n",
    "\n",
    "$H_a: \\mu \\neq  50 MPG $\n",
    "\n",
    "Then, we need to have the following assumptions:\n",
    "\n",
    "- Data seems to be Normally distributed with little to no skew\n",
    "\n",
    "- Size of the sample is less than 30, therefore will use t-distribution.\n",
    "\n",
    "- Data seems to be symmetrically distributed.\n",
    "\n",
    "- Gas mileage entries are independent of each other\n",
    "\n",
    "- $\\alpha$ = 0.05"
   ]
  },
  {
   "cell_type": "code",
   "execution_count": 116,
   "metadata": {},
   "outputs": [
    {
     "name": "stdout",
     "output_type": "stream",
     "text": [
      "2.1603686564610127\n",
      "2.3745133416065376\n",
      "0.03365111175830604\n"
     ]
    }
   ],
   "source": [
    "sample_mean = 53.3\n",
    "sample_standard_deviation = 5.2\n",
    "sample_size = 14\n",
    "degrees_of_freedom = sample_size - 1\n",
    "sample_s_e = sample_standard_deviation / np.sqrt(sample_size)\n",
    "\n",
    "T = st.t.ppf(1-0.05/2, degrees_of_freedom)\n",
    "\n",
    "print(T)\n",
    "\n",
    "t_stat = (sample_mean - 50) / sample_s_e\n",
    "\n",
    "print(t_stat)\n",
    "\n",
    "calculated_proba = 2*(1 - st.t.cdf(t_stat, 13))\n",
    "\n",
    "print(calculated_proba)"
   ]
  },
  {
   "cell_type": "markdown",
   "metadata": {},
   "source": [
    "Reject Null Hypothesis since 2 $\\times$ p-value = 2 $\\times$ 0.01682555587915302 = 0.03365111175830604 < $\\alpha$ = 0.05\n",
    "\n",
    "Also, t-score = 2.3745133416065376 > $t_{0.05/2, 13}$ = 2.1603686564610127 and t-score = 2.3745133416065376 ! < $-t_{0.05/2, 13}$ = -2.1603686564610127"
   ]
  },
  {
   "cell_type": "code",
   "execution_count": 117,
   "metadata": {},
   "outputs": [
    {
     "name": "stdout",
     "output_type": "stream",
     "text": [
      "Our value with confidence interval is 53.3000 +/- 3.0024\n"
     ]
    },
    {
     "data": {
      "text/plain": [
       "[50.297609387404876, 56.30239061259512]"
      ]
     },
     "execution_count": 117,
     "metadata": {},
     "output_type": "execute_result"
    }
   ],
   "source": [
    "# c.\n",
    "\n",
    "small_ci = st.t.ppf(1-0.05/2, degrees_of_freedom) * sample_s_e\n",
    "\n",
    "print(\"Our value with confidence interval is %.4f +/- %.4f\" % (sample_mean, small_ci))\n",
    "[sample_mean - small_ci, sample_mean + small_ci]"
   ]
  },
  {
   "cell_type": "markdown",
   "metadata": {},
   "source": [
    "Additionally $\\mu$ = 50 does not fall into the C.I."
   ]
  },
  {
   "cell_type": "markdown",
   "metadata": {},
   "source": [
    "5.20\n",
    "\n",
    "High School and Beyond, Part I. The National Center of Education Statistics conducted\n",
    "a survey of high school seniors, collecting test data on reading, writing, and several other subjects.\n",
    "Here we examine a simple random sample of 200 students from this survey. Side-by-side box plots\n",
    "of reading and writing scores as well as a histogram of the differences in scores are shown below."
   ]
  },
  {
   "cell_type": "markdown",
   "metadata": {},
   "source": [
    "<img src=\"homework520.png\">"
   ]
  },
  {
   "cell_type": "markdown",
   "metadata": {},
   "source": [
    "(a) Is there a clear difference in the average reading and writing scores?\n",
    "\n",
    "(b) Are the reading and writing scores of each student independent of each other?\n",
    "\n",
    "(c) Create hypotheses appropriate for the following research question: is there an evident difference\n",
    "in the average scores of students in the reading and writing exam?\n",
    "\n",
    "(d) Check the conditions required to complete this test.\n",
    "\n",
    "(e) The average observed difference in scores is $\\tilde{x}_{read-write}$ =\n",
    "-0.545, and the standard deviation\n",
    "of the differences is 8.887 points. Do these data provide convincing evidence of a difference\n",
    "between the average scores on the two exams?\n",
    "\n",
    "(f) What type of error might we have made? Explain what the error means in the context of the\n",
    "application.\n",
    "\n",
    "(g) Based on the results of this hypothesis test, would you expect a confidence interval for the\n",
    "average difference between the reading and writing scores to include 0? Explain your reasoning."
   ]
  },
  {
   "cell_type": "markdown",
   "metadata": {},
   "source": [
    "a.\n",
    "\n",
    "By looking at the above graphs, we believe that there is not a difference in the average reading and writing scores. The difference distributions seems to be fairly normal with mean around 0."
   ]
  },
  {
   "cell_type": "markdown",
   "metadata": {},
   "source": [
    "b.\n",
    "\n",
    "Reading scores and writing scores of one student are not independent of each other although the scores between students would be independent. One's ability to read would affect one's ability to write and perhaps vice versa. Therefore, we have paired data."
   ]
  },
  {
   "cell_type": "markdown",
   "metadata": {},
   "source": [
    "c.\n",
    "\n",
    "$H_0 : \\mu_{reading - writing} = 0$\n",
    "\n",
    "$H_a : \\mu_{reading - writing} \\ne 0$"
   ]
  },
  {
   "cell_type": "markdown",
   "metadata": {},
   "source": [
    "d.\n",
    "\n",
    "- Independence\n",
    "    - We have independence since our sample is random as stated in the problem definition. Additionally, sample size seems to be less that 10% of the disribution.\n",
    "- Normality\n",
    "    - By looking at the box plots, we can see that both writing scores and reading scores are relatively normally distributed, although writing seems to be skewed a bit to the left due to a longer lower tail.\n",
    "- Randomness\n",
    "    - As per the problem definition, we have a simple random sample. "
   ]
  },
  {
   "cell_type": "markdown",
   "metadata": {},
   "source": [
    "e.\n",
    "\n",
    "$\\tilde{x}_{reading - writing}$ = -0.545\n",
    "\n",
    "$s_{reading - writing}$ = 8.887"
   ]
  },
  {
   "cell_type": "code",
   "execution_count": 120,
   "metadata": {},
   "outputs": [
    {
     "name": "stdout",
     "output_type": "stream",
     "text": [
      "T: 1.971956544249395\n",
      "t_score:  -0.8672739861520613\n",
      "p_value:  0.19341823709967354\n"
     ]
    }
   ],
   "source": [
    "x_bar = -0.545\n",
    "hypothesis_mean = 0\n",
    "sample_size = 200\n",
    "sample_standard_deviation = 8.887\n",
    "standard_err = sample_standard_deviation / np.sqrt(sample_size)\n",
    "alpha = 0.05\n",
    "\n",
    "T = st.t.ppf(1 - alpha / 2, sample_size -1 )\n",
    "\n",
    "print(\"T:\", T)\n",
    "\n",
    "t_score = (x_bar - hypothesis_mean) / standard_err\n",
    "\n",
    "print(\"t_score: \", t_score)\n",
    "\n",
    "p_value = st.t.cdf(t_score, sample_size - 1)\n",
    "\n",
    "print(\"p_value: \", p_value)"
   ]
  },
  {
   "cell_type": "markdown",
   "metadata": {},
   "source": [
    "Do not reject the null hypothesis since:\n",
    "\n",
    "- t-score = -0.8672739861520613 > = T = -1.971956544249395\n",
    "\n",
    "- 2 $\\times$ p_value = 2 $\\times$ 0.19341823709967354 = 0.3868364741993471 > $\\alpha$ = 0.05\n",
    "\n",
    "Therefore, there is no difference between the average scores on two exames"
   ]
  },
  {
   "cell_type": "markdown",
   "metadata": {},
   "source": [
    "f.\n",
    "\n",
    "Since we did not reject the null hypothesis when it could have been erroneous, we might have made a Type 2 error. Meaning, we failed to reject the null hypothesis in favour of there being no difference between the scores when there could actually be difference between the scores."
   ]
  },
  {
   "cell_type": "markdown",
   "metadata": {},
   "source": [
    "g.\n",
    "\n",
    "Since we did not reject the null hypothesis, we do expect the CI to contain 0."
   ]
  },
  {
   "cell_type": "code",
   "execution_count": 115,
   "metadata": {},
   "outputs": [
    {
     "name": "stdout",
     "output_type": "stream",
     "text": [
      "Our value with confidence 90 percent interval is 0.5450 +/- 1.2392\n"
     ]
    },
    {
     "data": {
      "text/plain": [
       "[-0.6941889227350669, 1.784188922735067]"
      ]
     },
     "execution_count": 115,
     "metadata": {},
     "output_type": "execute_result"
    }
   ],
   "source": [
    "alpha_95 = 1- 0.95\n",
    "\n",
    "t_critical_95 = st.t.ppf(1 - alpha_95 / 2, sample_size -1 )\n",
    "\n",
    "ci_95 = standard_err * t_critical_95\n",
    "\n",
    "print(\"Our value with confidence 90 percent interval is %.4f +/- %.4f\" % (x_bar, ci_95))\n",
    "[x_bar - ci_95, x_bar + ci_95]"
   ]
  },
  {
   "cell_type": "code",
   "execution_count": null,
   "metadata": {
    "collapsed": true
   },
   "outputs": [],
   "source": []
  }
 ],
 "metadata": {
  "kernelspec": {
   "display_name": "Python 3",
   "language": "python",
   "name": "python3"
  },
  "language_info": {
   "codemirror_mode": {
    "name": "ipython",
    "version": 3
   },
   "file_extension": ".py",
   "mimetype": "text/x-python",
   "name": "python",
   "nbconvert_exporter": "python",
   "pygments_lexer": "ipython3",
   "version": "3.6.3"
  }
 },
 "nbformat": 4,
 "nbformat_minor": 2
}
